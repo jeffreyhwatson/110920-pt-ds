{
 "cells": [
  {
   "cell_type": "markdown",
   "metadata": {
    "heading_collapsed": true
   },
   "source": [
    "# SQL Practice\n",
    "This notebook contains exercises for SQL fundamentals. \n",
    "\n",
    "The `Chinook_Sqlite.sqlite` and `Northwind.sqlite` databases are stored in the `data` folder of this repository. "
   ]
  },
  {
   "cell_type": "markdown",
   "metadata": {
    "heading_collapsed": true,
    "hidden": true
   },
   "source": [
    "### Entity Relationship Diagrams"
   ]
  },
  {
   "cell_type": "markdown",
   "metadata": {
    "heading_collapsed": true,
    "hidden": true
   },
   "source": [
    "#### Northwind ERD"
   ]
  },
  {
   "cell_type": "markdown",
   "metadata": {
    "hidden": true
   },
   "source": [
    "![](../../static/Northwind_ERD.png)    "
   ]
  },
  {
   "cell_type": "markdown",
   "metadata": {
    "heading_collapsed": true,
    "hidden": true
   },
   "source": [
    "#### Chinook ERD"
   ]
  },
  {
   "cell_type": "markdown",
   "metadata": {
    "hidden": true
   },
   "source": [
    "![](../../static/Chinook_ERD.jpg)"
   ]
  },
  {
   "cell_type": "code",
   "execution_count": null,
   "metadata": {},
   "outputs": [],
   "source": [
    "cur(\"\"\"SELECT name FROM sqlite_master WHERE type='table';\"\"\").fetchall() #get table names\n",
    "cur(\"\"\"SELECT*FROM table_name;\"\"\").description #get column names"
   ]
  },
  {
   "cell_type": "markdown",
   "metadata": {
    "heading_collapsed": true,
    "hidden": true
   },
   "source": [
    "#### Note\n",
    ">The table names in the ERD do not perfectly match the table names in the database. You can use the sql query `SELECT name FROM sqlite_master WHERE type='table';` to see the names of the tables.\n",
    "\n",
    "Below we open up a connection to each database."
   ]
  },
  {
   "cell_type": "code",
   "execution_count": 3,
   "metadata": {
    "ExecuteTime": {
     "end_time": "2020-12-10T16:30:15.161910Z",
     "start_time": "2020-12-10T16:30:15.156655Z"
    },
    "hidden": true
   },
   "outputs": [],
   "source": [
    "import sqlite3\n",
    "import os\n",
    "\n",
    "chinook_path = os.path.join(os.pardir, os.pardir, 'data', 'Chinook_Sqlite.sqlite')\n",
    "chinook_connection = sqlite3.connect(chinook_path)\n",
    "\n",
    "northwind_path = os.path.join(os.pardir, os.pardir, 'data', 'Northwind.sqlite')\n",
    "northwind_connection = sqlite3.connect(northwind_path)"
   ]
  },
  {
   "cell_type": "markdown",
   "metadata": {
    "hidden": true
   },
   "source": [
    "Now we create a cursor for each database."
   ]
  },
  {
   "cell_type": "code",
   "execution_count": 4,
   "metadata": {
    "ExecuteTime": {
     "end_time": "2020-12-10T16:37:57.165174Z",
     "start_time": "2020-12-10T16:37:57.162710Z"
    },
    "hidden": true
   },
   "outputs": [],
   "source": [
    "chinook = chinook_connection.cursor()\n",
    "northwind = northwind_connection.cursor()"
   ]
  },
  {
   "cell_type": "markdown",
   "metadata": {
    "heading_collapsed": true,
    "hidden": true
   },
   "source": [
    "## Let's first review some fundamental commands."
   ]
  },
  {
   "cell_type": "markdown",
   "metadata": {
    "ExecuteTime": {
     "end_time": "2020-12-10T17:05:58.778715Z",
     "start_time": "2020-12-10T17:05:58.775088Z"
    },
    "heading_collapsed": true,
    "hidden": true
   },
   "source": [
    "### `SELECT`\n",
    "\n",
    "In the cell below, use the `SELECT` command to select all records from the northwind `product` table."
   ]
  },
  {
   "cell_type": "code",
   "execution_count": 5,
   "metadata": {
    "ExecuteTime": {
     "end_time": "2020-12-10T16:45:17.625641Z",
     "start_time": "2020-12-10T16:45:17.621355Z"
    },
    "hidden": true
   },
   "outputs": [
    {
     "data": {
      "text/plain": [
       "[(1, 'Chai', 1, 1, '10 boxes x 20 bags', 18, 39, 0, 10, 0),\n",
       " (2, 'Chang', 1, 1, '24 - 12 oz bottles', 19, 17, 40, 25, 0),\n",
       " (3, 'Aniseed Syrup', 1, 2, '12 - 550 ml bottles', 10, 13, 70, 25, 0)]"
      ]
     },
     "execution_count": 5,
     "metadata": {},
     "output_type": "execute_result"
    }
   ],
   "source": [
    "query = '''SELECT * FROM product;'''\n",
    "\n",
    "northwind.execute(query).fetchmany(3)"
   ]
  },
  {
   "cell_type": "markdown",
   "metadata": {
    "heading_collapsed": true,
    "hidden": true
   },
   "source": [
    "#### Selecting one column\n",
    "\n",
    "Next let's only collect the product names from the `product` table."
   ]
  },
  {
   "cell_type": "code",
   "execution_count": 6,
   "metadata": {
    "ExecuteTime": {
     "end_time": "2020-12-10T16:45:11.238815Z",
     "start_time": "2020-12-10T16:45:11.234126Z"
    },
    "hidden": true
   },
   "outputs": [
    {
     "data": {
      "text/plain": [
       "[('Chai',), ('Chang',), ('Aniseed Syrup',)]"
      ]
     },
     "execution_count": 6,
     "metadata": {},
     "output_type": "execute_result"
    }
   ],
   "source": [
    "query = '''SELECT productname FROM product;'''\n",
    "\n",
    "northwind.execute(query).fetchmany(3)"
   ]
  },
  {
   "cell_type": "markdown",
   "metadata": {
    "heading_collapsed": true,
    "hidden": true
   },
   "source": [
    "#### Selecting more than one column\n",
    "\n",
    "In the cell below we will collect the product names, unit price, and units in stock columns from the `product` table."
   ]
  },
  {
   "cell_type": "code",
   "execution_count": 7,
   "metadata": {
    "ExecuteTime": {
     "end_time": "2020-12-10T16:51:51.304877Z",
     "start_time": "2020-12-10T16:51:51.300819Z"
    },
    "hidden": true
   },
   "outputs": [
    {
     "data": {
      "text/plain": [
       "[('Chai', 18, 39), ('Chang', 19, 17), ('Aniseed Syrup', 10, 13)]"
      ]
     },
     "execution_count": 7,
     "metadata": {},
     "output_type": "execute_result"
    }
   ],
   "source": [
    "query = '''SELECT productname,\n",
    "                  unitprice,\n",
    "                  unitsinstock\n",
    "           FROM product;'''\n",
    "\n",
    "northwind.execute(query).fetchmany(3)"
   ]
  },
  {
   "cell_type": "markdown",
   "metadata": {
    "heading_collapsed": true,
    "hidden": true
   },
   "source": [
    "### `WHERE`\n",
    "\n",
    "In the cell below, use the `WHERE` command to select all records from the `product` table that have a unit price that is greater than $100."
   ]
  },
  {
   "cell_type": "code",
   "execution_count": 8,
   "metadata": {
    "ExecuteTime": {
     "end_time": "2020-12-10T16:48:22.422428Z",
     "start_time": "2020-12-10T16:48:22.417958Z"
    },
    "hidden": true
   },
   "outputs": [
    {
     "data": {
      "text/plain": [
       "[(29,\n",
       "  'Thüringer Rostbratwurst',\n",
       "  12,\n",
       "  6,\n",
       "  '50 bags x 30 sausgs.',\n",
       "  123.79,\n",
       "  0,\n",
       "  0,\n",
       "  0,\n",
       "  1),\n",
       " (38, 'Côte de Blaye', 18, 1, '12 - 75 cl bottles', 263.5, 17, 0, 15, 0)]"
      ]
     },
     "execution_count": 8,
     "metadata": {},
     "output_type": "execute_result"
    }
   ],
   "source": [
    "query = '''SELECT * FROM product\n",
    "           WHERE unitprice > 100;'''\n",
    "\n",
    "northwind.execute(query).fetchmany(3)"
   ]
  },
  {
   "cell_type": "markdown",
   "metadata": {
    "heading_collapsed": true,
    "hidden": true
   },
   "source": [
    "### `AND`\n",
    "In the cell below collect the name of of products with a unit price > 100 with less than 10 units in stock. "
   ]
  },
  {
   "cell_type": "code",
   "execution_count": 9,
   "metadata": {
    "ExecuteTime": {
     "end_time": "2020-12-10T17:46:45.476403Z",
     "start_time": "2020-12-10T17:46:45.471928Z"
    },
    "hidden": true
   },
   "outputs": [
    {
     "data": {
      "text/plain": [
       "[('Thüringer Rostbratwurst',)]"
      ]
     },
     "execution_count": 9,
     "metadata": {},
     "output_type": "execute_result"
    }
   ],
   "source": [
    "query = '''SELECT productname FROM product\n",
    "           WHERE product.unitprice > 100\n",
    "           AND product.unitsinstock < 10;'''\n",
    "\n",
    "northwind.execute(query).fetchall()"
   ]
  },
  {
   "cell_type": "markdown",
   "metadata": {
    "heading_collapsed": true,
    "hidden": true
   },
   "source": [
    "### `JOIN`\n",
    "\n",
    "In the cell below we use the `JOIN` command to return the unit price and the name of the supplier."
   ]
  },
  {
   "cell_type": "code",
   "execution_count": null,
   "metadata": {},
   "outputs": [],
   "source": [
    "northwind.execute(\"\"\"query\"\"\").description"
   ]
  },
  {
   "cell_type": "code",
   "execution_count": 10,
   "metadata": {
    "ExecuteTime": {
     "end_time": "2020-12-10T17:04:32.225159Z",
     "start_time": "2020-12-10T17:04:32.220742Z"
    },
    "hidden": true
   },
   "outputs": [
    {
     "data": {
      "text/plain": [
       "[(18, 'Exotic Liquids'), (19, 'Exotic Liquids'), (10, 'Exotic Liquids')]"
      ]
     },
     "execution_count": 10,
     "metadata": {},
     "output_type": "execute_result"
    }
   ],
   "source": [
    "query = '''SELECT product.unitprice, supplier.companyname\n",
    "           FROM product \n",
    "           INNER JOIN\n",
    "           supplier \n",
    "           ON product.supplierid = supplier.id;'''\n",
    "\n",
    "northwind.execute(query).fetchmany(3)"
   ]
  },
  {
   "cell_type": "markdown",
   "metadata": {
    "heading_collapsed": true,
    "hidden": true
   },
   "source": [
    "### `DISTINCT`\n",
    "\n",
    "In the cell below, use the `DISTINCT` command to collect all unique discount values from the orderdetail table."
   ]
  },
  {
   "cell_type": "code",
   "execution_count": 11,
   "metadata": {
    "ExecuteTime": {
     "end_time": "2020-12-10T17:42:34.404525Z",
     "start_time": "2020-12-10T17:42:34.399632Z"
    },
    "hidden": true
   },
   "outputs": [
    {
     "data": {
      "text/plain": [
       "[(0.0,),\n",
       " (0.15,),\n",
       " (0.05,),\n",
       " (0.2,),\n",
       " (0.25,),\n",
       " (0.1,),\n",
       " (0.02,),\n",
       " (0.03,),\n",
       " (0.04,),\n",
       " (0.06,),\n",
       " (0.01,)]"
      ]
     },
     "execution_count": 11,
     "metadata": {},
     "output_type": "execute_result"
    }
   ],
   "source": [
    "query = '''SELECT DISTINCT discount FROM orderdetail'''\n",
    "\n",
    "northwind.execute(query).fetchall()"
   ]
  },
  {
   "cell_type": "markdown",
   "metadata": {
    "heading_collapsed": true,
    "hidden": true
   },
   "source": [
    "### Column broadcasting\n",
    "\n",
    "In the cell below we calculate the total amount spent by multiplying the unit price times the quantity and subtracking the discount."
   ]
  },
  {
   "cell_type": "code",
   "execution_count": 12,
   "metadata": {
    "ExecuteTime": {
     "end_time": "2020-12-10T17:38:06.117416Z",
     "start_time": "2020-12-10T17:38:06.112959Z"
    },
    "hidden": true
   },
   "outputs": [
    {
     "data": {
      "text/plain": [
       "[(168.0,), (98.0,), (174.0,)]"
      ]
     },
     "execution_count": 12,
     "metadata": {},
     "output_type": "execute_result"
    }
   ],
   "source": [
    "query = '''SELECT unitprice * quantity - (unitprice * quantity * discount) from orderdetail;'''\n",
    "\n",
    "northwind.execute(query).fetchmany(3)"
   ]
  },
  {
   "cell_type": "markdown",
   "metadata": {
    "heading_collapsed": true,
    "hidden": true
   },
   "source": [
    "### `GROUPBY`\n",
    "In the cell below, use the `GROUPBY` command to collect the total amount spent on an order."
   ]
  },
  {
   "cell_type": "code",
   "execution_count": 13,
   "metadata": {
    "ExecuteTime": {
     "end_time": "2020-12-10T17:50:18.351628Z",
     "start_time": "2020-12-10T17:50:18.346346Z"
    },
    "hidden": true
   },
   "outputs": [
    {
     "data": {
      "text/plain": [
       "830"
      ]
     },
     "execution_count": 13,
     "metadata": {},
     "output_type": "execute_result"
    }
   ],
   "source": [
    "query = '''SELECT SUM(unitprice * quantity - (unitprice * quantity * discount)) ordertotal \n",
    "           FROM orderdetail\n",
    "           GROUP BY orderdetail.orderid;'''\n",
    "\n",
    "len(northwind.execute(query).fetchall())"
   ]
  },
  {
   "cell_type": "code",
   "execution_count": 14,
   "metadata": {
    "ExecuteTime": {
     "end_time": "2020-12-10T17:50:42.077063Z",
     "start_time": "2020-12-10T17:50:42.072255Z"
    },
    "hidden": true
   },
   "outputs": [
    {
     "data": {
      "text/plain": [
       "830"
      ]
     },
     "execution_count": 14,
     "metadata": {},
     "output_type": "execute_result"
    }
   ],
   "source": [
    "# We have the same number of orders as the full table!\n",
    "query = '''SELECT DISTINCT orderid from orderdetail;'''\n",
    "\n",
    "len(northwind.execute(query).fetchall())"
   ]
  },
  {
   "cell_type": "markdown",
   "metadata": {
    "heading_collapsed": true,
    "hidden": true
   },
   "source": [
    "### `ORDER BY` and `ASC/DESC`\n",
    "In the cell below, we collect all product names and unit prices and sort by unitprice in descending order."
   ]
  },
  {
   "cell_type": "code",
   "execution_count": 15,
   "metadata": {
    "ExecuteTime": {
     "end_time": "2020-12-10T17:54:13.689333Z",
     "start_time": "2020-12-10T17:54:13.685320Z"
    },
    "hidden": true
   },
   "outputs": [
    {
     "data": {
      "text/plain": [
       "[('Côte de Blaye', 263.5),\n",
       " ('Thüringer Rostbratwurst', 123.79),\n",
       " ('Mishi Kobe Niku', 97),\n",
       " (\"Sir Rodney's Marmalade\", 81),\n",
       " ('Carnarvon Tigers', 62.5)]"
      ]
     },
     "execution_count": 15,
     "metadata": {},
     "output_type": "execute_result"
    }
   ],
   "source": [
    "query = '''SELECT productname, unitprice FROM product\n",
    "           ORDER BY product.unitprice DESC;'''\n",
    "\n",
    "northwind.execute(query).fetchmany(5)"
   ]
  },
  {
   "cell_type": "markdown",
   "metadata": {
    "heading_collapsed": true,
    "hidden": true
   },
   "source": [
    "### Selecting all from both tables\n",
    "\n",
    "In the cell below we use the `JOIN` command to return all product and supplier information from the `product` and `supplier` tables."
   ]
  },
  {
   "cell_type": "code",
   "execution_count": 16,
   "metadata": {
    "ExecuteTime": {
     "end_time": "2020-12-10T17:01:07.516432Z",
     "start_time": "2020-12-10T17:01:07.512105Z"
    },
    "hidden": true
   },
   "outputs": [
    {
     "data": {
      "text/plain": [
       "[(1,\n",
       "  'Chai',\n",
       "  1,\n",
       "  1,\n",
       "  '10 boxes x 20 bags',\n",
       "  18,\n",
       "  39,\n",
       "  0,\n",
       "  10,\n",
       "  0,\n",
       "  1,\n",
       "  'Exotic Liquids',\n",
       "  'Charlotte Cooper',\n",
       "  'Purchasing Manager',\n",
       "  '49 Gilbert St.',\n",
       "  'London',\n",
       "  'British Isles',\n",
       "  'EC1 4SD',\n",
       "  'UK',\n",
       "  '(171) 555-2222',\n",
       "  None,\n",
       "  None)]"
      ]
     },
     "execution_count": 16,
     "metadata": {},
     "output_type": "execute_result"
    }
   ],
   "source": [
    "query = '''SELECT product.*, supplier.*\n",
    "           FROM product\n",
    "           INNER JOIN\n",
    "           supplier\n",
    "           ON product.supplierid = supplier.id;'''\n",
    "\n",
    "northwind.execute(query).fetchmany(1)"
   ]
  },
  {
   "cell_type": "markdown",
   "metadata": {
    "heading_collapsed": true
   },
   "source": [
    "# Pair Programming\n",
    "\n",
    "Five SQL tasks have been provided for each of the two databases. \n",
    "\n",
    "For each database, one students should share their screen and write the code. The other student should navigate. Once students have completed the questions for the first database, students should switch roles for the second database. "
   ]
  },
  {
   "cell_type": "markdown",
   "metadata": {
    "hidden": true
   },
   "source": [
    "## Northwind Practice"
   ]
  },
  {
   "cell_type": "markdown",
   "metadata": {
    "heading_collapsed": true,
    "hidden": true
   },
   "source": [
    "### Task 1\n",
    "\n",
    "Select all observations from the `orderdetail` table."
   ]
  },
  {
   "cell_type": "code",
   "execution_count": 17,
   "metadata": {
    "hidden": true
   },
   "outputs": [
    {
     "data": {
      "text/plain": [
       "[('10248/11', 10248, 11, 14, 12, 0.0),\n",
       " ('10248/42', 10248, 42, 9.8, 10, 0.0),\n",
       " ('10248/72', 10248, 72, 34.8, 5, 0.0),\n",
       " ('10249/14', 10249, 14, 18.6, 9, 0.0),\n",
       " ('10249/51', 10249, 51, 42.4, 40, 0.0)]"
      ]
     },
     "execution_count": 17,
     "metadata": {},
     "output_type": "execute_result"
    }
   ],
   "source": [
    "# Your code here\n",
    "query = \"\"\"SELECT*FROM orderdetail\"\"\"\n",
    "northwind.execute(query).fetchmany(5)"
   ]
  },
  {
   "cell_type": "markdown",
   "metadata": {
    "heading_collapsed": true,
    "hidden": true
   },
   "source": [
    "### Task 2\n",
    "Select the product name and quantity per unit columns from the `product` table."
   ]
  },
  {
   "cell_type": "code",
   "execution_count": 21,
   "metadata": {
    "hidden": true
   },
   "outputs": [
    {
     "data": {
      "text/plain": [
       "[('Chai', '10 boxes x 20 bags'),\n",
       " ('Chang', '24 - 12 oz bottles'),\n",
       " ('Aniseed Syrup', '12 - 550 ml bottles'),\n",
       " (\"Chef Anton's Cajun Seasoning\", '48 - 6 oz jars'),\n",
       " (\"Chef Anton's Gumbo Mix\", '36 boxes')]"
      ]
     },
     "execution_count": 21,
     "metadata": {},
     "output_type": "execute_result"
    }
   ],
   "source": [
    "# Your code here\n",
    "query = \"\"\"SELECT ProductName, QuantityPerUnit FROM Product\"\"\"\n",
    "northwind.execute(query).fetchmany(5)"
   ]
  },
  {
   "cell_type": "markdown",
   "metadata": {
    "heading_collapsed": true,
    "hidden": true
   },
   "source": [
    "### Task 3\n",
    "Select all columns from the `order detail` table and the product name and quanitity per unit columns from the `product`"
   ]
  },
  {
   "cell_type": "code",
   "execution_count": 25,
   "metadata": {
    "hidden": true
   },
   "outputs": [
    {
     "data": {
      "text/plain": [
       "[('10248/11', 10248, 11, 14, 12, 0.0, 'Queso Cabrales', '1 kg pkg.'),\n",
       " ('10248/42',\n",
       "  10248,\n",
       "  42,\n",
       "  9.8,\n",
       "  10,\n",
       "  0.0,\n",
       "  'Singaporean Hokkien Fried Mee',\n",
       "  '32 - 1 kg pkgs.'),\n",
       " ('10248/72',\n",
       "  10248,\n",
       "  72,\n",
       "  34.8,\n",
       "  5,\n",
       "  0.0,\n",
       "  'Mozzarella di Giovanni',\n",
       "  '24 - 200 g pkgs.'),\n",
       " ('10249/14', 10249, 14, 18.6, 9, 0.0, 'Tofu', '40 - 100 g pkgs.'),\n",
       " ('10249/51',\n",
       "  10249,\n",
       "  51,\n",
       "  42.4,\n",
       "  40,\n",
       "  0.0,\n",
       "  'Manjimup Dried Apples',\n",
       "  '50 - 300 g pkgs.')]"
      ]
     },
     "execution_count": 25,
     "metadata": {},
     "output_type": "execute_result"
    }
   ],
   "source": [
    "# Your code here\n",
    "query = \"\"\"SELECT OrderDetail.*, Product.ProductName, Product.QuantityPerUnit\n",
    "           FROM OrderDetail\n",
    "           JOIN Product\n",
    "           ON Product.Id = OrderDetail.ProductId;\"\"\"\n",
    "northwind.execute(query).fetchmany(5)"
   ]
  },
  {
   "cell_type": "markdown",
   "metadata": {
    "heading_collapsed": true,
    "hidden": true
   },
   "source": [
    "### Task 4\n",
    "Select all columns from the `order detail` and `order` table, and the product name and quanitity per unit columns from the `product` table"
   ]
  },
  {
   "cell_type": "code",
   "execution_count": 26,
   "metadata": {
    "hidden": true
   },
   "outputs": [
    {
     "data": {
      "text/plain": [
       "[('10248/11',\n",
       "  10248,\n",
       "  11,\n",
       "  14,\n",
       "  12,\n",
       "  0.0,\n",
       "  10248,\n",
       "  'VINET',\n",
       "  5,\n",
       "  '2012-07-04',\n",
       "  '2012-08-01',\n",
       "  '2012-07-16',\n",
       "  3,\n",
       "  32.38,\n",
       "  'Vins et alcools Chevalier',\n",
       "  \"59 rue de l'Abbaye\",\n",
       "  'Reims',\n",
       "  'Western Europe',\n",
       "  '51100',\n",
       "  'France',\n",
       "  'Queso Cabrales',\n",
       "  '1 kg pkg.'),\n",
       " ('10248/42',\n",
       "  10248,\n",
       "  42,\n",
       "  9.8,\n",
       "  10,\n",
       "  0.0,\n",
       "  10248,\n",
       "  'VINET',\n",
       "  5,\n",
       "  '2012-07-04',\n",
       "  '2012-08-01',\n",
       "  '2012-07-16',\n",
       "  3,\n",
       "  32.38,\n",
       "  'Vins et alcools Chevalier',\n",
       "  \"59 rue de l'Abbaye\",\n",
       "  'Reims',\n",
       "  'Western Europe',\n",
       "  '51100',\n",
       "  'France',\n",
       "  'Singaporean Hokkien Fried Mee',\n",
       "  '32 - 1 kg pkgs.'),\n",
       " ('10248/72',\n",
       "  10248,\n",
       "  72,\n",
       "  34.8,\n",
       "  5,\n",
       "  0.0,\n",
       "  10248,\n",
       "  'VINET',\n",
       "  5,\n",
       "  '2012-07-04',\n",
       "  '2012-08-01',\n",
       "  '2012-07-16',\n",
       "  3,\n",
       "  32.38,\n",
       "  'Vins et alcools Chevalier',\n",
       "  \"59 rue de l'Abbaye\",\n",
       "  'Reims',\n",
       "  'Western Europe',\n",
       "  '51100',\n",
       "  'France',\n",
       "  'Mozzarella di Giovanni',\n",
       "  '24 - 200 g pkgs.'),\n",
       " ('10249/14',\n",
       "  10249,\n",
       "  14,\n",
       "  18.6,\n",
       "  9,\n",
       "  0.0,\n",
       "  10249,\n",
       "  'TOMSP',\n",
       "  6,\n",
       "  '2012-07-05',\n",
       "  '2012-08-16',\n",
       "  '2012-07-10',\n",
       "  1,\n",
       "  11.61,\n",
       "  'Toms Spezialitäten',\n",
       "  'Luisenstr. 48',\n",
       "  'Münster',\n",
       "  'Western Europe',\n",
       "  '44087',\n",
       "  'Germany',\n",
       "  'Tofu',\n",
       "  '40 - 100 g pkgs.'),\n",
       " ('10249/51',\n",
       "  10249,\n",
       "  51,\n",
       "  42.4,\n",
       "  40,\n",
       "  0.0,\n",
       "  10249,\n",
       "  'TOMSP',\n",
       "  6,\n",
       "  '2012-07-05',\n",
       "  '2012-08-16',\n",
       "  '2012-07-10',\n",
       "  1,\n",
       "  11.61,\n",
       "  'Toms Spezialitäten',\n",
       "  'Luisenstr. 48',\n",
       "  'Münster',\n",
       "  'Western Europe',\n",
       "  '44087',\n",
       "  'Germany',\n",
       "  'Manjimup Dried Apples',\n",
       "  '50 - 300 g pkgs.')]"
      ]
     },
     "execution_count": 26,
     "metadata": {},
     "output_type": "execute_result"
    }
   ],
   "source": [
    "# Your code here\n",
    "query = \"\"\"SELECT OrderDetail.*, 'Order'.*, ProductName, Product.QuantityPerUnit\n",
    "           FROM OrderDetail\n",
    "           JOIN Product\n",
    "           ON Product.Id = OrderDetail.ProductId\n",
    "           JOIN 'Order'\n",
    "           ON 'Order'.Id = OrderDetail.OrderId;\"\"\"\n",
    "northwind.execute(query).fetchmany(5)"
   ]
  },
  {
   "cell_type": "markdown",
   "metadata": {
    "heading_collapsed": true,
    "hidden": true
   },
   "source": [
    "### Task 5"
   ]
  },
  {
   "cell_type": "markdown",
   "metadata": {
    "hidden": true
   },
   "source": [
    "Select the unique company names and phone number from the `shipper` table for orders with a freight cost that is larger than $100"
   ]
  },
  {
   "cell_type": "code",
   "execution_count": 29,
   "metadata": {
    "hidden": true
   },
   "outputs": [
    {
     "data": {
      "text/plain": [
       "[('Federal Shipping', '(503) 555-9931'),\n",
       " ('Speedy Express', '(503) 555-9831'),\n",
       " ('United Package', '(503) 555-3199')]"
      ]
     },
     "execution_count": 29,
     "metadata": {},
     "output_type": "execute_result"
    }
   ],
   "source": [
    "# Your code here\n",
    "query = \"\"\"SELECT DISTINCT Shipper.CompanyName, Shipper.Phone\n",
    "           FROM Shipper\n",
    "           JOIN 'Order'\n",
    "           ON 'Order'.ShipVia = Shipper.Id\n",
    "           WHERE Freight > 100;\"\"\"\n",
    "northwind.execute(query).fetchmany(5)"
   ]
  },
  {
   "cell_type": "markdown",
   "metadata": {
    "heading_collapsed": true,
    "hidden": true
   },
   "source": [
    "## Chinook Practice"
   ]
  },
  {
   "cell_type": "markdown",
   "metadata": {
    "heading_collapsed": true,
    "hidden": true
   },
   "source": [
    "### Task 1\n",
    "Collect all oberservations from the genres table."
   ]
  },
  {
   "cell_type": "code",
   "execution_count": 30,
   "metadata": {
    "hidden": true
   },
   "outputs": [
    {
     "data": {
      "text/plain": [
       "[(1, 'Rock'),\n",
       " (2, 'Jazz'),\n",
       " (3, 'Metal'),\n",
       " (4, 'Alternative & Punk'),\n",
       " (5, 'Rock And Roll')]"
      ]
     },
     "execution_count": 30,
     "metadata": {},
     "output_type": "execute_result"
    }
   ],
   "source": [
    "# Your code here\n",
    "query = \"\"\"SELECT*FROM genre\"\"\"\n",
    "chinook.execute(query).fetchmany(5)"
   ]
  },
  {
   "cell_type": "markdown",
   "metadata": {
    "heading_collapsed": true,
    "hidden": true
   },
   "source": [
    "### Task 2\n",
    "Collect the first name, last name, and email for all customers."
   ]
  },
  {
   "cell_type": "code",
   "execution_count": 31,
   "metadata": {
    "hidden": true
   },
   "outputs": [
    {
     "data": {
      "text/plain": [
       "[('Luís', 'Gonçalves', 'luisg@embraer.com.br'),\n",
       " ('Leonie', 'Köhler', 'leonekohler@surfeu.de'),\n",
       " ('François', 'Tremblay', 'ftremblay@gmail.com'),\n",
       " ('Bjørn', 'Hansen', 'bjorn.hansen@yahoo.no'),\n",
       " ('František', 'Wichterlová', 'frantisekw@jetbrains.com')]"
      ]
     },
     "execution_count": 31,
     "metadata": {},
     "output_type": "execute_result"
    }
   ],
   "source": [
    "# Your code here\n",
    "query = \"\"\"SELECT FirstName, LastName, Email FROM Customer;\"\"\"\n",
    "chinook.execute(query).fetchmany(5)"
   ]
  },
  {
   "cell_type": "markdown",
   "metadata": {
    "heading_collapsed": true,
    "hidden": true
   },
   "source": [
    "### Task 3\n",
    "Collect all track names with a blues genre."
   ]
  },
  {
   "cell_type": "code",
   "execution_count": 32,
   "metadata": {
    "hidden": true
   },
   "outputs": [
    {
     "data": {
      "text/plain": [
       "[('First Time I Met The Blues',),\n",
       " ('Let Me Love You Baby',),\n",
       " ('Stone Crazy',),\n",
       " ('Pretty Baby',),\n",
       " ('When My Left Eye Jumps',)]"
      ]
     },
     "execution_count": 32,
     "metadata": {},
     "output_type": "execute_result"
    }
   ],
   "source": [
    "# Your code here\n",
    "query = \"\"\"SELECT Track.name\n",
    "           FROM Track\n",
    "           JOIN Genre\n",
    "           USING(GenreId)\n",
    "           WHERE Genre.name ='Blues';\"\"\"\n",
    "chinook.execute(query).fetchmany(5)"
   ]
  },
  {
   "cell_type": "markdown",
   "metadata": {
    "heading_collapsed": true,
    "hidden": true
   },
   "source": [
    "### Task 4\n",
    "Collect the genre names, track names, and album names."
   ]
  },
  {
   "cell_type": "code",
   "execution_count": 33,
   "metadata": {
    "hidden": true
   },
   "outputs": [
    {
     "data": {
      "text/plain": [
       "[('Rock',\n",
       "  'For Those About To Rock (We Salute You)',\n",
       "  'For Those About To Rock We Salute You'),\n",
       " ('Rock', 'Balls to the Wall', 'Balls to the Wall'),\n",
       " ('Rock', 'Fast As a Shark', 'Restless and Wild'),\n",
       " ('Rock', 'Restless and Wild', 'Restless and Wild'),\n",
       " ('Rock', 'Princess of the Dawn', 'Restless and Wild')]"
      ]
     },
     "execution_count": 33,
     "metadata": {},
     "output_type": "execute_result"
    }
   ],
   "source": [
    "# Your code here\n",
    "query = \"\"\"SELECT Genre.name, Track.name, Album.Title\n",
    "           FROM Genre\n",
    "           JOIN Track\n",
    "           USING(GenreId)\n",
    "           JOIN Album\n",
    "           USING(AlbumId);\"\"\"\n",
    "chinook.execute(query).fetchmany(5)"
   ]
  },
  {
   "cell_type": "markdown",
   "metadata": {
    "heading_collapsed": true,
    "hidden": true
   },
   "source": [
    "### Task 5\n",
    "Collect the unique first name, last name, and email for all customers who purchase blues music. "
   ]
  },
  {
   "cell_type": "code",
   "execution_count": 36,
   "metadata": {
    "hidden": true
   },
   "outputs": [
    {
     "data": {
      "text/plain": [
       "[('John', 'Gordon', 'johngordon22@yahoo.com'),\n",
       " ('Tim', 'Goyer', 'tgoyer@apple.com'),\n",
       " ('Hannah', 'Schneider', 'hannah.schneider@yahoo.de'),\n",
       " ('Stanisław', 'Wójcik', 'stanisław.wójcik@wp.pl'),\n",
       " ('Fernanda', 'Ramos', 'fernadaramos4@uol.com.br')]"
      ]
     },
     "execution_count": 36,
     "metadata": {},
     "output_type": "execute_result"
    }
   ],
   "source": [
    "# Your code here\n",
    "query = \"\"\"SELECT DISTINCT FirstName, LastName, Email\n",
    "           FROM Customer\n",
    "           JOIN Invoice\n",
    "           USING(CustomerId)\n",
    "           JOIN InvoiceLine\n",
    "           USING(InvoiceId)\n",
    "           JOIN Track\n",
    "           USING(TrackId)\n",
    "           JOIN Genre\n",
    "           USING(GenreId)\n",
    "           WHERE Genre.name = 'Blues';\"\"\"\n",
    "chinook.execute(query).fetchmany(5)"
   ]
  },
  {
   "cell_type": "code",
   "execution_count": null,
   "metadata": {
    "hidden": true
   },
   "outputs": [],
   "source": []
  }
 ],
 "metadata": {
  "kernelspec": {
   "display_name": "Python 3",
   "language": "python",
   "name": "python3"
  },
  "language_info": {
   "codemirror_mode": {
    "name": "ipython",
    "version": 3
   },
   "file_extension": ".py",
   "mimetype": "text/x-python",
   "name": "python",
   "nbconvert_exporter": "python",
   "pygments_lexer": "ipython3",
   "version": "3.8.5"
  },
  "toc": {
   "base_numbering": 1,
   "nav_menu": {},
   "number_sections": false,
   "sideBar": true,
   "skip_h1_title": false,
   "title_cell": "Table of Contents",
   "title_sidebar": "Contents",
   "toc_cell": false,
   "toc_position": {},
   "toc_section_display": true,
   "toc_window_display": false
  }
 },
 "nbformat": 4,
 "nbformat_minor": 2
}
